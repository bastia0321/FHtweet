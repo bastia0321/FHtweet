{
 "cells": [
  {
   "cell_type": "code",
   "execution_count": 1,
   "metadata": {},
   "outputs": [],
   "source": [
    "import numpy as np\n",
    "import pandas as pd\n",
    "import nltk\n",
    "from collections import Counter\n",
    "from nltk.corpus import stopwords\n",
    "from nltk import word_tokenize, sent_tokenize\n",
    "import string\n",
    "from nltk.stem import WordNetLemmatizer\n",
    "from datetime import timedelta\n",
    "import re\n"
   ]
  },
  {
   "cell_type": "markdown",
   "metadata": {},
   "source": [
    "First we read in the tweets data of the three month"
   ]
  },
  {
   "cell_type": "code",
   "execution_count": 2,
   "metadata": {},
   "outputs": [],
   "source": [
    "aug_tweet = pd.read_excel('august.xlsx', parse_dates = ['CreatedTime'])\n",
    "sep_tweet = pd.read_excel('september.xlsx', parse_dates = ['CreatedTime'])\n",
    "oct_tweet = pd.read_excel('october.xlsx', parse_dates = ['CreatedTime'])"
   ]
  },
  {
   "cell_type": "markdown",
   "metadata": {},
   "source": [
    "Check `RangeIndex` then you know how many tweets are posted in each month"
   ]
  },
  {
   "cell_type": "code",
   "execution_count": 13,
   "metadata": {},
   "outputs": [
    {
     "name": "stdout",
     "output_type": "stream",
     "text": [
      "<class 'pandas.core.frame.DataFrame'>\n",
      "RangeIndex: 2309 entries, 0 to 2308\n",
      "Data columns (total 48 columns):\n",
      "UniversalMessageId        2309 non-null object\n",
      "SocialNetwork             2309 non-null object\n",
      "SenderUserId              2309 non-null int64\n",
      "SenderScreenName          2309 non-null object\n",
      "SenderListedName          2309 non-null object\n",
      "SenderProfileImgUrl       2309 non-null object\n",
      "SenderProfileLink         0 non-null float64\n",
      "Sender Followers Count    2309 non-null int64\n",
      "SenderInfluencerScore     0 non-null float64\n",
      "SenderAge                 0 non-null float64\n",
      "SenderGender              162 non-null object\n",
      "Title                     0 non-null float64\n",
      "Message                   2309 non-null object\n",
      "MessageType               2309 non-null object\n",
      "CreatedTime               2309 non-null datetime64[ns]\n",
      "Language                  2309 non-null object\n",
      "LanguageCode              2309 non-null object\n",
      "CountryCode               1644 non-null object\n",
      "MediaTypeList             1139 non-null object\n",
      "Permalink                 2309 non-null object\n",
      "Domain                    2309 non-null object\n",
      "Retweets                  261 non-null float64\n",
      "Tweet Generator           2309 non-null object\n",
      "Favorites                 252 non-null float64\n",
      "ReceiverId                0 non-null float64\n",
      "ReceiverScreenName        0 non-null float64\n",
      "AssignedBy                0 non-null float64\n",
      "AssignedTo                0 non-null float64\n",
      "Spam                      2309 non-null bool\n",
      "Status                    0 non-null float64\n",
      "Priority                  0 non-null float64\n",
      "Sentiment                 2309 non-null object\n",
      "ClientQueues              0 non-null float64\n",
      "PartnerQueues             0 non-null float64\n",
      "ClientCustomProps         0 non-null float64\n",
      "PartnerCustomProps        0 non-null float64\n",
      "Custom Tags               0 non-null float64\n",
      "Action Time               0 non-null float64\n",
      "Geo Target                0 non-null float64\n",
      "Post Id                   0 non-null float64\n",
      "Location                  0 non-null float64\n",
      "Country                   0 non-null float64\n",
      "State                     0 non-null float64\n",
      "City                      0 non-null float64\n",
      "Latitude                  1645 non-null float64\n",
      "Longitude                 1645 non-null float64\n",
      "Sender Email              0 non-null float64\n",
      "Message Type              2309 non-null object\n",
      "dtypes: bool(1), datetime64[ns](1), float64(27), int64(2), object(17)\n",
      "memory usage: 850.2+ KB\n",
      "<class 'NoneType'>\n",
      "=========================================\n",
      "<class 'pandas.core.frame.DataFrame'>\n",
      "RangeIndex: 5648 entries, 0 to 5647\n",
      "Data columns (total 48 columns):\n",
      "UniversalMessageId        5648 non-null object\n",
      "SocialNetwork             5648 non-null object\n",
      "SenderUserId              5648 non-null int64\n",
      "SenderScreenName          5648 non-null object\n",
      "SenderListedName          5648 non-null object\n",
      "SenderProfileImgUrl       5648 non-null object\n",
      "SenderProfileLink         0 non-null float64\n",
      "Sender Followers Count    5648 non-null int64\n",
      "SenderInfluencerScore     0 non-null float64\n",
      "SenderAge                 0 non-null float64\n",
      "SenderGender              573 non-null object\n",
      "Title                     0 non-null float64\n",
      "Message                   5648 non-null object\n",
      "MessageType               5648 non-null object\n",
      "CreatedTime               5648 non-null datetime64[ns]\n",
      "Language                  5648 non-null object\n",
      "LanguageCode              5648 non-null object\n",
      "CountryCode               4185 non-null object\n",
      "MediaTypeList             2852 non-null object\n",
      "Permalink                 5648 non-null object\n",
      "Domain                    5648 non-null object\n",
      "Retweets                  651 non-null float64\n",
      "Tweet Generator           5648 non-null object\n",
      "Favorites                 624 non-null float64\n",
      "ReceiverId                0 non-null float64\n",
      "ReceiverScreenName        0 non-null float64\n",
      "AssignedBy                0 non-null float64\n",
      "AssignedTo                0 non-null float64\n",
      "Spam                      5648 non-null bool\n",
      "Status                    0 non-null float64\n",
      "Priority                  0 non-null float64\n",
      "Sentiment                 5648 non-null object\n",
      "ClientQueues              0 non-null float64\n",
      "PartnerQueues             0 non-null float64\n",
      "ClientCustomProps         0 non-null float64\n",
      "PartnerCustomProps        0 non-null float64\n",
      "Custom Tags               0 non-null float64\n",
      "Action Time               0 non-null float64\n",
      "Geo Target                0 non-null float64\n",
      "Post Id                   0 non-null float64\n",
      "Location                  0 non-null float64\n",
      "Country                   0 non-null float64\n",
      "State                     0 non-null float64\n",
      "City                      58 non-null object\n",
      "Latitude                  4186 non-null float64\n",
      "Longitude                 4186 non-null float64\n",
      "Sender Email              0 non-null float64\n",
      "Message Type              5648 non-null object\n",
      "dtypes: bool(1), datetime64[ns](1), float64(26), int64(2), object(18)\n",
      "memory usage: 2.0+ MB\n",
      "<class 'NoneType'>\n",
      "=========================================\n",
      "<class 'pandas.core.frame.DataFrame'>\n",
      "RangeIndex: 2343 entries, 0 to 2342\n",
      "Data columns (total 48 columns):\n",
      "UniversalMessageId        2343 non-null object\n",
      "SocialNetwork             2343 non-null object\n",
      "SenderUserId              2343 non-null int64\n",
      "SenderScreenName          2343 non-null object\n",
      "SenderListedName          2343 non-null object\n",
      "SenderProfileImgUrl       2343 non-null object\n",
      "SenderProfileLink         0 non-null float64\n",
      "Sender Followers Count    2343 non-null int64\n",
      "SenderInfluencerScore     0 non-null float64\n",
      "SenderAge                 0 non-null float64\n",
      "SenderGender              216 non-null object\n",
      "Title                     0 non-null float64\n",
      "Message                   2343 non-null object\n",
      "MessageType               2343 non-null object\n",
      "CreatedTime               2343 non-null datetime64[ns]\n",
      "Language                  2343 non-null object\n",
      "LanguageCode              2343 non-null object\n",
      "CountryCode               1736 non-null object\n",
      "MediaTypeList             1339 non-null object\n",
      "Permalink                 2343 non-null object\n",
      "Domain                    2343 non-null object\n",
      "Retweets                  373 non-null float64\n",
      "Tweet Generator           2343 non-null object\n",
      "Favorites                 309 non-null float64\n",
      "ReceiverId                0 non-null float64\n",
      "ReceiverScreenName        0 non-null float64\n",
      "AssignedBy                0 non-null float64\n",
      "AssignedTo                0 non-null float64\n",
      "Spam                      2343 non-null bool\n",
      "Status                    0 non-null float64\n",
      "Priority                  0 non-null float64\n",
      "Sentiment                 2343 non-null object\n",
      "ClientQueues              0 non-null float64\n",
      "PartnerQueues             0 non-null float64\n",
      "ClientCustomProps         0 non-null float64\n",
      "PartnerCustomProps        0 non-null float64\n",
      "Custom Tags               0 non-null float64\n",
      "Action Time               0 non-null float64\n",
      "Geo Target                0 non-null float64\n",
      "Post Id                   0 non-null float64\n",
      "Location                  0 non-null float64\n",
      "Country                   0 non-null float64\n",
      "State                     0 non-null float64\n",
      "City                      84 non-null object\n",
      "Latitude                  1736 non-null float64\n",
      "Longitude                 1736 non-null float64\n",
      "Sender Email              0 non-null float64\n",
      "Message Type              2343 non-null object\n",
      "dtypes: bool(1), datetime64[ns](1), float64(26), int64(2), object(18)\n",
      "memory usage: 862.7+ KB\n",
      "<class 'NoneType'>\n"
     ]
    }
   ],
   "source": [
    "print(type(aug_tweet.info()))\n",
    "print('=========================================')\n",
    "print(type(sep_tweet.info()))\n",
    "print('=========================================')\n",
    "print(type(oct_tweet.info()))"
   ]
  },
  {
   "cell_type": "markdown",
   "metadata": {},
   "source": [
    "Still this time, we use key word to different relevant and irrelevant tweets. Add new found words in the below list, so the algorithm can use the updated one. **One more issue, for some retweet messages, FH related information is not contained in the message part, and this will generate some errors in the following messages**"
   ]
  },
  {
   "cell_type": "code",
   "execution_count": 114,
   "metadata": {},
   "outputs": [],
   "source": [
    "none_FH_key = ['auto', 'car', 'game', 'field', 'happy', 'photo', 'sport', 'Match', 'LIVE', 'ford', 'picture', 'team',\n",
    "               'pic', 'play', 'score', 'UCW', 'FinalHour', 'Win', 'youtube', 'youtu.be']\n",
    "FH_key_dataframe = pd.read_csv('fh_keyword.csv')\n",
    "FH_key = FH_key_dataframe['FH_key']"
   ]
  },
  {
   "cell_type": "code",
   "execution_count": 115,
   "metadata": {},
   "outputs": [
    {
     "name": "stdout",
     "output_type": "stream",
     "text": [
      "['auto', 'car', 'game', 'field', 'happy', 'photo', 'sport', 'Match', 'LIVE', 'ford', 'picture', 'team', 'pic', 'play', 'score', 'UCW', 'FinalHour', 'Win', 'youtube', 'youtu.be']\n"
     ]
    }
   ],
   "source": [
    "print(none_FH_key)"
   ]
  },
  {
   "cell_type": "code",
   "execution_count": 116,
   "metadata": {},
   "outputs": [
    {
     "name": "stdout",
     "output_type": "stream",
     "text": [
      "0                            knowFH\n",
      "1                           Know FH\n",
      "2                        FHcantwait\n",
      "3                           Race4FH\n",
      "4                       FHAwareness\n",
      "5                      FH Awareness\n",
      "6                    FHAwarenessDay\n",
      "7                            FindFH\n",
      "8                              HeFH\n",
      "9                    HeterozygousFH\n",
      "10                             HoFH\n",
      "11                     HomozygousFH\n",
      "12        Cholesteroleducationmonth\n",
      "13        Cholesterolawarenessmonth\n",
      "14     FamilialHypercholesterolemia\n",
      "15                     FH Awareness\n",
      "16                 FH Awareness Day\n",
      "17                             HeFH\n",
      "18                  Heterozygous FH\n",
      "19                             HoFH\n",
      "20                    Homozygous FH\n",
      "21      Cholesterol education month\n",
      "22      Cholesterol awareness month\n",
      "23    Familial Hypercholesterolemia\n",
      "24                    FH Foundation\n",
      "25                        FHPatient\n",
      "26                          Patient\n",
      "27                        Hospital \n",
      "28                          Genetic\n",
      "29                         genomics\n",
      "                  ...              \n",
      "67                         diagnose\n",
      "68                        diagnosis\n",
      "69                           doctor\n",
      "70                             ncbi\n",
      "71                 accurate summary\n",
      "72                          inherit\n",
      "73                             jacc\n",
      "74                              nih\n",
      "75                             psk9\n",
      "76                          symptom\n",
      "77                         Syndrome\n",
      "78                            study\n",
      "79                         analysis\n",
      "80                       discussion\n",
      "81                      life-saving\n",
      "82                        screening\n",
      "83                           athero\n",
      "84                              pcp\n",
      "85             .*[test].*negative.*\n",
      "86                        awareness\n",
      "87                             cure\n",
      "88                             drug\n",
      "89                       medication\n",
      "90                         medicine\n",
      "91                         pharmacy\n",
      "92                       save lives\n",
      "93                            @USYD\n",
      "94                         stanford\n",
      "95                        eatplants\n",
      "96                           cardio\n",
      "Name: FH_key, Length: 97, dtype: object\n"
     ]
    }
   ],
   "source": [
    "print(FH_key)"
   ]
  },
  {
   "cell_type": "code",
   "execution_count": 147,
   "metadata": {},
   "outputs": [],
   "source": [
    "def relevant(msg):\n",
    "    r = any(i.lower() in msg.lower() for i in FH_key)\n",
    "    ir = any(i.lower() in msg.lower() for i in none_FH_key)    \n",
    "    return not (not r and ir)\n",
    "\n",
    "\n",
    "aug_tweet['relevance'] = aug_tweet['Message'].apply(relevant)\n",
    "sep_tweet['relevance'] = sep_tweet['Message'].apply(relevant)\n",
    "oct_tweet['relevance'] = oct_tweet['Message'].apply(relevant)"
   ]
  },
  {
   "cell_type": "markdown",
   "metadata": {},
   "source": [
    "Now we give the relevant/irrelevant tweets number for each month, from which you can compute the portion of the no. of genuine tweets"
   ]
  },
  {
   "cell_type": "code",
   "execution_count": 148,
   "metadata": {},
   "outputs": [
    {
     "name": "stdout",
     "output_type": "stream",
     "text": [
      "Aug tweets\n",
      "relevance\n",
      "False     295\n",
      "True     2014\n",
      "Name: relevance, dtype: int64\n",
      "========================\n",
      "Sep tweets\n",
      "relevance\n",
      "False     195\n",
      "True     5453\n",
      "Name: relevance, dtype: int64\n",
      "========================\n",
      "Oct tweets\n",
      "relevance\n",
      "False     242\n",
      "True     2101\n",
      "Name: relevance, dtype: int64\n"
     ]
    }
   ],
   "source": [
    "print('Aug tweets')\n",
    "print(aug_tweet.groupby('relevance')['relevance'].count())\n",
    "print('========================')\n",
    "print('Sep tweets')\n",
    "print(sep_tweet.groupby('relevance')['relevance'].count())\n",
    "print('========================')\n",
    "print('Oct tweets')\n",
    "print(oct_tweet.groupby('relevance')['relevance'].count())"
   ]
  },
  {
   "cell_type": "markdown",
   "metadata": {},
   "source": [
    "Now we split the relevant tweets by posters. Still, we use individual poster names"
   ]
  },
  {
   "cell_type": "code",
   "execution_count": 6,
   "metadata": {},
   "outputs": [],
   "source": [
    "import spacy"
   ]
  },
  {
   "cell_type": "markdown",
   "metadata": {},
   "source": [
    "We extract the relevant tweets for each month"
   ]
  },
  {
   "cell_type": "code",
   "execution_count": 122,
   "metadata": {},
   "outputs": [],
   "source": [
    "aug_tweet_true = aug_tweet[aug_tweet.relevance].reset_index(drop = True)\n",
    "aug_tweet_false = aug_tweet[aug_tweet.relevance == False].reset_index(drop = True)\n",
    "sep_tweet_true = sep_tweet[sep_tweet.relevance].reset_index(drop = True)\n",
    "sep_tweet_false = sep_tweet[sep_tweet.relevance == False].reset_index(drop = True)\n",
    "oct_tweet_true = oct_tweet[oct_tweet.relevance].reset_index(drop = True)\n",
    "oct_tweet_false = oct_tweet[oct_tweet.relevance == False].reset_index(drop = True)"
   ]
  },
  {
   "cell_type": "code",
   "execution_count": 123,
   "metadata": {},
   "outputs": [],
   "source": [
    "relevant_tweet = [aug_tweet_true, sep_tweet_true, oct_tweet_true]\n",
    "months = ['aug', 'sep', 'oct']\n",
    "for i, month in zip(relevant_tweet, months):\n",
    "    i.to_csv(month+'TRUE.csv', index=False)\n",
    "irrelevant_tweet = [aug_tweet_false, sep_tweet_false, oct_tweet_false]\n",
    "for i, month in zip(irrelevant_tweet, months):\n",
    "    i.to_csv(month+'FALSE.csv', index=False)"
   ]
  },
  {
   "cell_type": "code",
   "execution_count": 124,
   "metadata": {},
   "outputs": [],
   "source": [
    "nlp = spacy.load('en_core_web_sm')\n",
    "def INDorORG(name):\n",
    "    name = re.sub(r'[^a-zA-Z\\s]', '', name)\n",
    "    doc = nlp(name)\n",
    "    return [(ent.label_, ent.text) for ent in doc.ents]"
   ]
  },
  {
   "cell_type": "code",
   "execution_count": 129,
   "metadata": {},
   "outputs": [],
   "source": [
    "aug_ner = aug_tweet_true['SenderListedName'].apply(INDorORG) ### attempt to use spacy.nlp for automatic Ind/Org split\n",
    "sep_ner = sep_tweet_true['SenderListedName'].apply(INDorORG)\n",
    "oct_ner = oct_tweet_true['SenderListedName'].apply(INDorORG)"
   ]
  },
  {
   "cell_type": "code",
   "execution_count": 131,
   "metadata": {},
   "outputs": [
    {
     "name": "stdout",
     "output_type": "stream",
     "text": [
      "526\n",
      "1919\n",
      "1485\n",
      "5312\n",
      "487\n",
      "1975\n"
     ]
    }
   ],
   "source": [
    "print(aug_ner.apply(lambda x: len(x)==0).sum())\n",
    "print(aug_ner.size)\n",
    "print(sep_ner.apply(lambda x: len(x)==0).sum())\n",
    "print(sep_ner.size)\n",
    "print(oct_ner.apply(lambda x: len(x)==0).sum())\n",
    "print(oct_ner.size)"
   ]
  },
  {
   "cell_type": "markdown",
   "metadata": {},
   "source": [
    "We need to use the word again."
   ]
  },
  {
   "cell_type": "code",
   "execution_count": 132,
   "metadata": {},
   "outputs": [],
   "source": [
    "org_keyword = ['foundation', 'foundtion[sic.]', 'health', 'department', 'organization', 'agency', 'news', 'group',\n",
    "               'society', 'committee', 'volunteer', 'county', 'government', 'network', 'firm', 'company', 'companies',\n",
    "               'blog', 'we', 'promotions', 'marketing', 'forum', 'consult', 'national', 'cardio', 'AHA', 'international',\n",
    "               'association', 'heart', 'America', 'campaign', 'pharmacy', 'pharmaceutical', 'Gene', 'Society', 'gene',\n",
    "               'genom', 'genetic', 'medicine', 'lab']"
   ]
  },
  {
   "cell_type": "code",
   "execution_count": 133,
   "metadata": {},
   "outputs": [],
   "source": [
    "def isORG(name):\n",
    "    name = re.sub(r'[^a-zA-Z\\s]', '', name)    \n",
    "    return any(i.lower() in name.lower() for i in org_keyword)"
   ]
  },
  {
   "cell_type": "code",
   "execution_count": 134,
   "metadata": {},
   "outputs": [],
   "source": [
    "aug_tweet_true['isORG'] = aug_tweet_true['SenderListedName'].apply(isORG) ### attempt to use spacy.nlp for automatic Ind/Org split\n",
    "sep_tweet_true['isORG']  = sep_tweet_true['SenderListedName'].apply(isORG)\n",
    "oct_tweet_true['isORG']  = oct_tweet_true['SenderListedName'].apply(isORG)"
   ]
  },
  {
   "cell_type": "markdown",
   "metadata": {},
   "source": [
    "Now we can split tweets w.r.t the identity of posters"
   ]
  },
  {
   "cell_type": "code",
   "execution_count": 135,
   "metadata": {},
   "outputs": [],
   "source": [
    "aug_tweet_true_org = aug_tweet_true[aug_tweet_true['isORG'] == True].reset_index(drop=True)\n",
    "sep_tweet_true_org = sep_tweet_true[sep_tweet_true['isORG'] == True].reset_index(drop=True)\n",
    "oct_tweet_true_org = oct_tweet_true[oct_tweet_true['isORG'] == True].reset_index(drop=True)\n",
    "\n",
    "aug_tweet_true_ind = aug_tweet_true[aug_tweet_true['isORG'] == False].reset_index(drop=True)\n",
    "sep_tweet_true_ind = sep_tweet_true[sep_tweet_true['isORG'] == False].reset_index(drop=True)\n",
    "oct_tweet_true_ind = oct_tweet_true[oct_tweet_true['isORG'] == False].reset_index(drop=True)"
   ]
  },
  {
   "cell_type": "code",
   "execution_count": 136,
   "metadata": {},
   "outputs": [],
   "source": [
    "#import bpy\n",
    "org = [aug_tweet_true_org, sep_tweet_true_org, oct_tweet_true_org]\n",
    "months = ['aug', 'sep', 'oct']\n",
    "for i, month in zip(org, months):\n",
    "    i.to_csv(month+'org.csv', index=False)\n",
    "ind = [aug_tweet_true_ind, sep_tweet_true_ind, oct_tweet_true_ind]\n",
    "for i, month in zip(ind, months):\n",
    "    i.to_csv(month+'individual.csv', index=False)"
   ]
  },
  {
   "cell_type": "markdown",
   "metadata": {},
   "source": [
    "We count unique posters for each month"
   ]
  },
  {
   "cell_type": "code",
   "execution_count": 165,
   "metadata": {},
   "outputs": [
    {
     "name": "stdout",
     "output_type": "stream",
     "text": [
      "aug unique org: 76\n",
      "aug unique ind: 681\n",
      "sep unique org: 315\n",
      "sep unique ind: 1329\n",
      "oct unique org: 76\n",
      "oct unique ind: 614\n"
     ]
    }
   ],
   "source": [
    "print('aug unique org:', aug_tweet_true_org['SenderListedName'].unique().size)\n",
    "print('aug unique ind:', aug_tweet_true_ind['SenderListedName'].unique().size)\n",
    "print('sep unique org:', sep_tweet_true_org['SenderListedName'].unique().size)\n",
    "print('sep unique ind:', sep_tweet_true_ind['SenderListedName'].unique().size)\n",
    "print('oct unique org:', oct_tweet_true_org['SenderListedName'].unique().size)\n",
    "print('oct unique ind:', oct_tweet_true_ind['SenderListedName'].unique().size)"
   ]
  },
  {
   "cell_type": "markdown",
   "metadata": {},
   "source": [
    "The table for message type "
   ]
  },
  {
   "cell_type": "code",
   "execution_count": 156,
   "metadata": {},
   "outputs": [
    {
     "name": "stdout",
     "output_type": "stream",
     "text": [
      "Aug org message type\n",
      "MessageType\n",
      "Twitter Mention     67\n",
      "Twitter Reply       12\n",
      "Twitter Retweet     80\n",
      "Twitter Update     114\n",
      "Name: MessageType, dtype: int64\n",
      "=========================\n",
      "Aug ind message type\n",
      "MessageType\n",
      "Twitter Mention     178\n",
      "Twitter Reply        84\n",
      "Twitter Retweet    1114\n",
      "Twitter Update      270\n",
      "Name: MessageType, dtype: int64\n",
      "=========================\n",
      "Sep org message type\n",
      "MessageType\n",
      "Twitter Mention    258\n",
      "Twitter Reply        8\n",
      "Twitter Retweet    489\n",
      "Twitter Update     437\n",
      "Name: MessageType, dtype: int64\n",
      "=========================\n",
      "Sep ind message type\n",
      "MessageType\n",
      "Twitter Mention     467\n",
      "Twitter Reply        99\n",
      "Twitter Retweet    2814\n",
      "Twitter Update      740\n",
      "Name: MessageType, dtype: int64\n",
      "=========================\n",
      "Oct org message type\n",
      "MessageType\n",
      "Twitter Mention     72\n",
      "Twitter Reply        2\n",
      "Twitter Retweet    124\n",
      "Twitter Update      97\n",
      "Name: MessageType, dtype: int64\n",
      "=========================\n",
      "Oct ind message type\n",
      "MessageType\n",
      "Twitter Mention    391\n",
      "Twitter Reply       58\n",
      "Twitter Retweet    926\n",
      "Twitter Update     305\n",
      "Name: MessageType, dtype: int64\n"
     ]
    }
   ],
   "source": [
    "print('Aug org message type')\n",
    "print(aug_tweet_true_org.groupby('MessageType')['MessageType'].count())\n",
    "print('=========================')\n",
    "print('Aug ind message type')\n",
    "print(aug_tweet_true_ind.groupby('MessageType')['MessageType'].count())\n",
    "print('=========================')\n",
    "print('Sep org message type')\n",
    "print(sep_tweet_true_org.groupby('MessageType')['MessageType'].count())\n",
    "print('=========================')\n",
    "print('Sep ind message type')\n",
    "print(sep_tweet_true_ind.groupby('MessageType')['MessageType'].count())\n",
    "print('=========================')\n",
    "print('Oct org message type')\n",
    "print(oct_tweet_true_org.groupby('MessageType')['MessageType'].count())\n",
    "print('=========================')\n",
    "print('Oct ind message type')\n",
    "print(oct_tweet_true_ind.groupby('MessageType')['MessageType'].count())"
   ]
  },
  {
   "cell_type": "code",
   "execution_count": null,
   "metadata": {},
   "outputs": [],
   "source": [
    "aug_org_group = aug_tweet_true_org.groupby('MessageType')\n",
    "sep_org_group = sep_tweet_true_org.groupby('MessageType')\n",
    "oct_org_group = oct_tweet_true_org.groupby('MessageType')"
   ]
  },
  {
   "cell_type": "code",
   "execution_count": 157,
   "metadata": {},
   "outputs": [],
   "source": [
    "writer = pd.ExcelWriter('aug_org_type.xlsx', engine='xlsxwriter')\n",
    "\n",
    "# Write each dataframe to a different worksheet.\n",
    "for i in aug_org_group.groups.keys():\n",
    "    aug_org_group.get_group(i).to_excel(writer, sheet_name=i)\n",
    "# Close the Pandas Excel writer and output the Excel file.\n",
    "writer.save()\n",
    "\n",
    "writer = pd.ExcelWriter('sep_org_type.xlsx', engine='xlsxwriter')\n",
    "\n",
    "# Write each dataframe to a different worksheet.\n",
    "for i in sep_org_group.groups.keys():\n",
    "    sep_org_group.get_group(i).to_excel(writer, sheet_name=i)\n",
    "# Close the Pandas Excel writer and output the Excel file.\n",
    "writer.save()\n",
    "\n",
    "writer = pd.ExcelWriter('oct_org_type.xlsx', engine='xlsxwriter')\n",
    "\n",
    "# Write each dataframe to a different worksheet.\n",
    "for i in oct_org_group.groups.keys():\n",
    "    oct_org_group.get_group(i).to_excel(writer, sheet_name=i)\n",
    "# Close the Pandas Excel writer and output the Excel file.\n",
    "writer.save()"
   ]
  },
  {
   "cell_type": "code",
   "execution_count": 159,
   "metadata": {},
   "outputs": [],
   "source": [
    "aug_ind_group = aug_tweet_true_ind.groupby('MessageType')\n",
    "sep_ind_group = sep_tweet_true_ind.groupby('MessageType')\n",
    "oct_ind_group = oct_tweet_true_ind.groupby('MessageType')"
   ]
  },
  {
   "cell_type": "code",
   "execution_count": 160,
   "metadata": {},
   "outputs": [],
   "source": [
    "writer = pd.ExcelWriter('aug_ind_type.xlsx', engine='xlsxwriter')\n",
    "\n",
    "# Write each dataframe to a different worksheet.\n",
    "for i in aug_ind_group.groups.keys():\n",
    "    aug_ind_group.get_group(i).to_excel(writer, sheet_name=i)\n",
    "# Close the Pandas Excel writer and output the Excel file.\n",
    "writer.save()\n",
    "\n",
    "writer = pd.ExcelWriter('sep_ind_type.xlsx', engine='xlsxwriter')\n",
    "\n",
    "# Write each dataframe to a different worksheet.\n",
    "for i in sep_ind_group.groups.keys():\n",
    "    sep_ind_group.get_group(i).to_excel(writer, sheet_name=i)\n",
    "# Close the Pandas Excel writer and output the Excel file.\n",
    "writer.save()\n",
    "\n",
    "writer = pd.ExcelWriter('oct_ind_type.xlsx', engine='xlsxwriter')\n",
    "\n",
    "# Write each dataframe to a different worksheet.\n",
    "for i in oct_ind_group.groups.keys():\n",
    "    oct_ind_group.get_group(i).to_excel(writer, sheet_name=i)\n",
    "# Close the Pandas Excel writer and output the Excel file.\n",
    "writer.save()"
   ]
  },
  {
   "cell_type": "code",
   "execution_count": 170,
   "metadata": {},
   "outputs": [],
   "source": [
    "org_topic_keyword = pd.read_excel('6 categories for organizations.xlsx')"
   ]
  },
  {
   "cell_type": "code",
   "execution_count": 171,
   "metadata": {},
   "outputs": [
    {
     "name": "stdout",
     "output_type": "stream",
     "text": [
      "   Awareness/Prevention Knowledge Dissemination/Research  \\\n",
      "0              National                          podcast   \n",
      "1         International                          journal   \n",
      "2                KnowFH                         research   \n",
      "3             Education                           inform   \n",
      "4             Awareness                             blog   \n",
      "5            FHcantwait                        resources   \n",
      "6           cholesterol                            paper   \n",
      "7                 learn                        questions   \n",
      "8           tweethathon                        published   \n",
      "9               prevent                          webinar   \n",
      "10              cascade                      publication   \n",
      "11              genetic                            video   \n",
      "12            screening                          authors   \n",
      "13            detection                              NaN   \n",
      "14             campaign                              NaN   \n",
      "15               FindFH                              NaN   \n",
      "16                 risk                              NaN   \n",
      "17               doctor                              NaN   \n",
      "18              genomic                              NaN   \n",
      "\n",
      "                  Treatment Diagnosis/Symptoms Fundraiser/Conferences/Summits  \\\n",
      "0   Treatment/treat/treated             tested                           race   \n",
      "1                   statins               HoFH                       donation   \n",
      "2                  medicine            disease                       congress   \n",
      "3                   therapy                LDL                         summit   \n",
      "4                  aphersis              signs                      symposium   \n",
      "5                 ezetimibe           symptoms                        session   \n",
      "6                inhibitors                CVD                            NaN   \n",
      "7                medication          Diagnosis                            NaN   \n",
      "8                specialist         sequencing                            NaN   \n",
      "9                    manage             stroke                            NaN   \n",
      "10                    PCSK9   atherolsclerosis                            NaN   \n",
      "11                 Praluent                CAD                            NaN   \n",
      "12                   target             attack                            NaN   \n",
      "13                      NaN           disorder                            NaN   \n",
      "14                      NaN               HeFH                            NaN   \n",
      "15                      NaN                NaN                            NaN   \n",
      "16                      NaN                NaN                            NaN   \n",
      "17                      NaN                NaN                            NaN   \n",
      "18                      NaN                NaN                            NaN   \n",
      "\n",
      "     Lifestyle  \n",
      "0         diet  \n",
      "1    lifestyle  \n",
      "2     exercise  \n",
      "3       recipe  \n",
      "4      healthy  \n",
      "5       fruits  \n",
      "6   vegetables  \n",
      "7        vegan  \n",
      "8          NaN  \n",
      "9          NaN  \n",
      "10         NaN  \n",
      "11         NaN  \n",
      "12         NaN  \n",
      "13         NaN  \n",
      "14         NaN  \n",
      "15         NaN  \n",
      "16         NaN  \n",
      "17         NaN  \n",
      "18         NaN  \n"
     ]
    }
   ],
   "source": [
    "print(org_topic_keyword)"
   ]
  },
  {
   "cell_type": "code",
   "execution_count": 172,
   "metadata": {},
   "outputs": [],
   "source": [
    "Stop = stopwords.words('english')\n",
    "wordnet_lemmatizer = WordNetLemmatizer()"
   ]
  },
  {
   "cell_type": "code",
   "execution_count": 176,
   "metadata": {},
   "outputs": [],
   "source": [
    "def topicmatch(msg, topic_keyword_dataframe):\n",
    "    topic = []\n",
    "    msg = re.sub(r'[^\\w]', ' ', msg)\n",
    "    #token_msg = word_tokenize(msg)\n",
    "    #is_word = list(map(lambda x: x not in Stop, token_msg))\n",
    "    #lemma_token_msg = [wordnet_lemmatizer.lemmatize(word) for word in token_msg[is_word]]\n",
    "    for category in topic_keyword_dataframe:\n",
    "        key_word = topic_keyword_dataframe[category].dropna()\n",
    "        if any(i.lower() in msg.lower() for i in key_word):\n",
    "            topic.append(category)\n",
    "            \n",
    "    return topic\n",
    "    \n",
    "aug_tweet_org_topic = aug_tweet_true_org['Message'].apply(topicmatch, topic_keyword_dataframe=org_topic_keyword)\n",
    "sep_tweet_org_topic = sep_tweet_true_org['Message'].apply(topicmatch, topic_keyword_dataframe=org_topic_keyword)\n",
    "oct_tweet_org_topic = oct_tweet_true_org['Message'].apply(topicmatch, topic_keyword_dataframe=org_topic_keyword)"
   ]
  },
  {
   "cell_type": "code",
   "execution_count": 177,
   "metadata": {},
   "outputs": [],
   "source": [
    "import itertools\n",
    "aug_org_topic_count = Counter(list(itertools.chain.from_iterable(aug_tweet_org_topic)))\n",
    "sep_org_topic_count = Counter(list(itertools.chain.from_iterable(sep_tweet_org_topic)))\n",
    "oct_org_topic_count = Counter(list(itertools.chain.from_iterable(oct_tweet_org_topic)))"
   ]
  },
  {
   "cell_type": "code",
   "execution_count": 178,
   "metadata": {},
   "outputs": [
    {
     "name": "stdout",
     "output_type": "stream",
     "text": [
      "topic for aug org: Counter({'Awareness/Prevention': 262, 'Diagnosis/Symptoms': 167, 'Knowledge Dissemination/Research': 48, 'Fundraiser/Conferences/Summits': 35, 'Treatment': 35, 'Lifestyle': 3})\n",
      "topic for sep org: Counter({'Awareness/Prevention': 1177, 'Diagnosis/Symptoms': 683, 'Knowledge Dissemination/Research': 201, 'Treatment': 135, 'Lifestyle': 109, 'Fundraiser/Conferences/Summits': 71})\n",
      "topic for oct org: Counter({'Awareness/Prevention': 278, 'Diagnosis/Symptoms': 142, 'Fundraiser/Conferences/Summits': 114, 'Knowledge Dissemination/Research': 75, 'Treatment': 57, 'Lifestyle': 25})\n"
     ]
    }
   ],
   "source": [
    "print('topic for aug org:', aug_org_topic_count)\n",
    "print('topic for sep org:', sep_org_topic_count)\n",
    "print('topic for oct org:', oct_org_topic_count)"
   ]
  },
  {
   "cell_type": "code",
   "execution_count": 179,
   "metadata": {},
   "outputs": [],
   "source": [
    "ind_topic_keyword = pd.read_excel('categories for individuals.xlsx')"
   ]
  },
  {
   "cell_type": "code",
   "execution_count": 180,
   "metadata": {},
   "outputs": [
    {
     "name": "stdout",
     "output_type": "stream",
     "text": [
      "topic for aug ind: Counter({'Awareness/Prevention': 1354, 'Diagnosis/Symptoms': 1048, 'Knowledge Dissemination/Research': 398, 'Treatment': 233, 'Fundraiser/Conferences/Summits': 188, 'Lifestyle': 72})\n",
      "topic for sep ind: Counter({'Awareness/Prevention': 3781, 'Diagnosis/Symptoms': 2532, 'Knowledge Dissemination/Research': 674, 'Treatment': 473, 'Lifestyle': 324, 'Fundraiser/Conferences/Summits': 300})\n",
      "topic for oct ind: Counter({'Awareness/Prevention': 1315, 'Diagnosis/Symptoms': 828, 'Fundraiser/Conferences/Summits': 699, 'Knowledge Dissemination/Research': 358, 'Treatment': 304, 'Lifestyle': 57})\n"
     ]
    }
   ],
   "source": [
    "aug_tweet_ind_topic = aug_tweet_true_ind['Message'].apply(topicmatch, topic_keyword_dataframe=ind_topic_keyword)\n",
    "sep_tweet_ind_topic = sep_tweet_true_ind['Message'].apply(topicmatch, topic_keyword_dataframe=ind_topic_keyword)\n",
    "oct_tweet_ind_topic = oct_tweet_true_ind['Message'].apply(topicmatch, topic_keyword_dataframe=ind_topic_keyword)\n",
    "\n",
    "aug_ind_topic_count = Counter(list(itertools.chain.from_iterable(aug_tweet_ind_topic)))\n",
    "sep_ind_topic_count = Counter(list(itertools.chain.from_iterable(sep_tweet_ind_topic)))\n",
    "oct_ind_topic_count = Counter(list(itertools.chain.from_iterable(oct_tweet_ind_topic)))\n",
    "\n",
    "print('topic for aug ind:', aug_ind_topic_count)\n",
    "print('topic for sep ind:', sep_ind_topic_count)\n",
    "print('topic for oct ind:', oct_ind_topic_count)"
   ]
  },
  {
   "cell_type": "code",
   "execution_count": null,
   "metadata": {},
   "outputs": [],
   "source": []
  }
 ],
 "metadata": {
  "kernelspec": {
   "display_name": "Python 3",
   "language": "python",
   "name": "python3"
  },
  "language_info": {
   "codemirror_mode": {
    "name": "ipython",
    "version": 3
   },
   "file_extension": ".py",
   "mimetype": "text/x-python",
   "name": "python",
   "nbconvert_exporter": "python",
   "pygments_lexer": "ipython3",
   "version": "3.7.1"
  }
 },
 "nbformat": 4,
 "nbformat_minor": 2
}
